{
 "cells": [
  {
   "cell_type": "code",
   "execution_count": 1,
   "metadata": {},
   "outputs": [],
   "source": [
    "import os\n",
    "import sys\n",
    "\n",
    "import numpy as np\n",
    "import pandas as pd\n",
    "\n",
    "sys.path.append('../')\n",
    "from utils import read_csv_time_chunks\n",
    "from steps.base import BaseTransformer"
   ]
  },
  {
   "cell_type": "code",
   "execution_count": 2,
   "metadata": {},
   "outputs": [],
   "source": [
    "files_dir = '/mnt/ml-team/minerva/talking_data/files'\n",
    "hours = list(range(24))\n",
    "days = [7, 8]"
   ]
  },
  {
   "cell_type": "code",
   "execution_count": 3,
   "metadata": {
    "scrolled": true
   },
   "outputs": [
    {
     "name": "stderr",
     "output_type": "stream",
     "text": [
      "  2%|▏         | 1/48 [00:03<02:30,  3.21s/it]"
     ]
    },
    {
     "name": "stdout",
     "output_type": "stream",
     "text": [
      "read in chunk /mnt/ml-team/minerva/talking_data/files/train_day7_hour0.csv of shape (3604365, 8)\n"
     ]
    },
    {
     "name": "stderr",
     "output_type": "stream",
     "text": [
      "\r",
      "  4%|▍         | 2/48 [00:06<02:25,  3.16s/it]"
     ]
    },
    {
     "name": "stdout",
     "output_type": "stream",
     "text": [
      "read in chunk /mnt/ml-team/minerva/talking_data/files/train_day7_hour1.csv of shape (3308150, 8)\n"
     ]
    },
    {
     "name": "stderr",
     "output_type": "stream",
     "text": [
      "\r",
      "  6%|▋         | 3/48 [00:09<02:16,  3.04s/it]"
     ]
    },
    {
     "name": "stdout",
     "output_type": "stream",
     "text": [
      "read in chunk /mnt/ml-team/minerva/talking_data/files/train_day7_hour2.csv of shape (3095633, 8)\n"
     ]
    },
    {
     "name": "stderr",
     "output_type": "stream",
     "text": [
      "\r",
      "  8%|▊         | 4/48 [00:11<02:10,  2.98s/it]"
     ]
    },
    {
     "name": "stdout",
     "output_type": "stream",
     "text": [
      "read in chunk /mnt/ml-team/minerva/talking_data/files/train_day7_hour3.csv of shape (3220271, 8)\n"
     ]
    },
    {
     "name": "stderr",
     "output_type": "stream",
     "text": [
      "\r",
      " 10%|█         | 5/48 [00:15<02:12,  3.08s/it]"
     ]
    },
    {
     "name": "stdout",
     "output_type": "stream",
     "text": [
      "read in chunk /mnt/ml-team/minerva/talking_data/files/train_day7_hour4.csv of shape (3645493, 8)\n"
     ]
    },
    {
     "name": "stderr",
     "output_type": "stream",
     "text": [
      "\r",
      " 12%|█▎        | 6/48 [00:18<02:07,  3.04s/it]"
     ]
    },
    {
     "name": "stdout",
     "output_type": "stream",
     "text": [
      "read in chunk /mnt/ml-team/minerva/talking_data/files/train_day7_hour5.csv of shape (3227349, 8)\n"
     ]
    },
    {
     "name": "stderr",
     "output_type": "stream",
     "text": [
      "\r",
      " 15%|█▍        | 7/48 [00:20<01:58,  2.90s/it]"
     ]
    },
    {
     "name": "stdout",
     "output_type": "stream",
     "text": [
      "read in chunk /mnt/ml-team/minerva/talking_data/files/train_day7_hour6.csv of shape (2917284, 8)\n"
     ]
    },
    {
     "name": "stderr",
     "output_type": "stream",
     "text": [
      "\r",
      " 17%|█▋        | 8/48 [00:23<01:52,  2.82s/it]"
     ]
    },
    {
     "name": "stdout",
     "output_type": "stream",
     "text": [
      "read in chunk /mnt/ml-team/minerva/talking_data/files/train_day7_hour7.csv of shape (2924033, 8)\n"
     ]
    },
    {
     "name": "stderr",
     "output_type": "stream",
     "text": [
      "\r",
      " 19%|█▉        | 9/48 [00:25<01:47,  2.75s/it]"
     ]
    },
    {
     "name": "stdout",
     "output_type": "stream",
     "text": [
      "read in chunk /mnt/ml-team/minerva/talking_data/files/train_day7_hour8.csv of shape (2801293, 8)\n"
     ]
    },
    {
     "name": "stderr",
     "output_type": "stream",
     "text": [
      "\r",
      " 21%|██        | 10/48 [00:28<01:43,  2.72s/it]"
     ]
    },
    {
     "name": "stdout",
     "output_type": "stream",
     "text": [
      "read in chunk /mnt/ml-team/minerva/talking_data/files/train_day7_hour9.csv of shape (2961319, 8)\n"
     ]
    },
    {
     "name": "stderr",
     "output_type": "stream",
     "text": [
      "\r",
      " 23%|██▎       | 11/48 [00:31<01:42,  2.78s/it]"
     ]
    },
    {
     "name": "stdout",
     "output_type": "stream",
     "text": [
      "read in chunk /mnt/ml-team/minerva/talking_data/files/train_day7_hour10.csv of shape (3300746, 8)\n"
     ]
    },
    {
     "name": "stderr",
     "output_type": "stream",
     "text": [
      "\r",
      " 25%|██▌       | 12/48 [00:34<01:40,  2.78s/it]"
     ]
    },
    {
     "name": "stdout",
     "output_type": "stream",
     "text": [
      "read in chunk /mnt/ml-team/minerva/talking_data/files/train_day7_hour11.csv of shape (3134200, 8)\n"
     ]
    },
    {
     "name": "stderr",
     "output_type": "stream",
     "text": [
      "\r",
      " 27%|██▋       | 13/48 [00:36<01:36,  2.76s/it]"
     ]
    },
    {
     "name": "stdout",
     "output_type": "stream",
     "text": [
      "read in chunk /mnt/ml-team/minerva/talking_data/files/train_day7_hour12.csv of shape (3000091, 8)\n"
     ]
    },
    {
     "name": "stderr",
     "output_type": "stream",
     "text": [
      "\r",
      " 29%|██▉       | 14/48 [00:39<01:34,  2.79s/it]"
     ]
    },
    {
     "name": "stdout",
     "output_type": "stream",
     "text": [
      "read in chunk /mnt/ml-team/minerva/talking_data/files/train_day7_hour13.csv of shape (3235239, 8)\n"
     ]
    },
    {
     "name": "stderr",
     "output_type": "stream",
     "text": [
      "\r",
      " 31%|███▏      | 15/48 [00:42<01:32,  2.80s/it]"
     ]
    },
    {
     "name": "stdout",
     "output_type": "stream",
     "text": [
      "read in chunk /mnt/ml-team/minerva/talking_data/files/train_day7_hour14.csv of shape (3161797, 8)\n"
     ]
    },
    {
     "name": "stderr",
     "output_type": "stream",
     "text": [
      "\r",
      " 33%|███▎      | 16/48 [00:45<01:28,  2.75s/it]"
     ]
    },
    {
     "name": "stdout",
     "output_type": "stream",
     "text": [
      "read in chunk /mnt/ml-team/minerva/talking_data/files/train_day7_hour15.csv of shape (2864021, 8)\n"
     ]
    },
    {
     "name": "stderr",
     "output_type": "stream",
     "text": [
      "\r",
      " 35%|███▌      | 17/48 [00:47<01:18,  2.55s/it]"
     ]
    },
    {
     "name": "stdout",
     "output_type": "stream",
     "text": [
      "read in chunk /mnt/ml-team/minerva/talking_data/files/train_day7_hour16.csv of shape (2314780, 8)\n"
     ]
    },
    {
     "name": "stderr",
     "output_type": "stream",
     "text": [
      "\r",
      " 38%|███▊      | 18/48 [00:48<01:03,  2.12s/it]"
     ]
    },
    {
     "name": "stdout",
     "output_type": "stream",
     "text": [
      "read in chunk /mnt/ml-team/minerva/talking_data/files/train_day7_hour17.csv of shape (1263077, 8)\n"
     ]
    },
    {
     "name": "stderr",
     "output_type": "stream",
     "text": [
      "\r",
      " 40%|███▉      | 19/48 [00:49<00:48,  1.68s/it]"
     ]
    },
    {
     "name": "stdout",
     "output_type": "stream",
     "text": [
      "read in chunk /mnt/ml-team/minerva/talking_data/files/train_day7_hour18.csv of shape (726684, 8)\n"
     ]
    },
    {
     "name": "stderr",
     "output_type": "stream",
     "text": [
      "\r",
      " 42%|████▏     | 20/48 [00:49<00:36,  1.31s/it]"
     ]
    },
    {
     "name": "stdout",
     "output_type": "stream",
     "text": [
      "read in chunk /mnt/ml-team/minerva/talking_data/files/train_day7_hour19.csv of shape (493056, 8)\n"
     ]
    },
    {
     "name": "stderr",
     "output_type": "stream",
     "text": [
      "\r",
      " 44%|████▍     | 21/48 [00:49<00:28,  1.04s/it]"
     ]
    },
    {
     "name": "stdout",
     "output_type": "stream",
     "text": [
      "read in chunk /mnt/ml-team/minerva/talking_data/files/train_day7_hour20.csv of shape (409255, 8)\n"
     ]
    },
    {
     "name": "stderr",
     "output_type": "stream",
     "text": [
      "\r",
      " 46%|████▌     | 22/48 [00:50<00:22,  1.16it/s]"
     ]
    },
    {
     "name": "stdout",
     "output_type": "stream",
     "text": [
      "read in chunk /mnt/ml-team/minerva/talking_data/files/train_day7_hour21.csv of shape (518866, 8)\n"
     ]
    },
    {
     "name": "stderr",
     "output_type": "stream",
     "text": [
      "\r",
      " 48%|████▊     | 23/48 [00:51<00:23,  1.09it/s]"
     ]
    },
    {
     "name": "stdout",
     "output_type": "stream",
     "text": [
      "read in chunk /mnt/ml-team/minerva/talking_data/files/train_day7_hour22.csv of shape (1172535, 8)\n"
     ]
    },
    {
     "name": "stderr",
     "output_type": "stream",
     "text": [
      "\r",
      " 50%|█████     | 24/48 [00:53<00:31,  1.30s/it]"
     ]
    },
    {
     "name": "stdout",
     "output_type": "stream",
     "text": [
      "read in chunk /mnt/ml-team/minerva/talking_data/files/train_day7_hour23.csv of shape (2333773, 8)\n"
     ]
    },
    {
     "name": "stderr",
     "output_type": "stream",
     "text": [
      "\r",
      " 52%|█████▏    | 25/48 [00:56<00:42,  1.84s/it]"
     ]
    },
    {
     "name": "stdout",
     "output_type": "stream",
     "text": [
      "read in chunk /mnt/ml-team/minerva/talking_data/files/train_day8_hour0.csv of shape (3493769, 8)\n"
     ]
    },
    {
     "name": "stderr",
     "output_type": "stream",
     "text": [
      "\r",
      " 54%|█████▍    | 26/48 [00:59<00:46,  2.11s/it]"
     ]
    },
    {
     "name": "stdout",
     "output_type": "stream",
     "text": [
      "read in chunk /mnt/ml-team/minerva/talking_data/files/train_day8_hour1.csv of shape (3065649, 8)\n"
     ]
    },
    {
     "name": "stderr",
     "output_type": "stream",
     "text": [
      "\r",
      " 56%|█████▋    | 27/48 [01:02<00:50,  2.41s/it]"
     ]
    },
    {
     "name": "stdout",
     "output_type": "stream",
     "text": [
      "read in chunk /mnt/ml-team/minerva/talking_data/files/train_day8_hour2.csv of shape (3585843, 8)\n"
     ]
    },
    {
     "name": "stderr",
     "output_type": "stream",
     "text": [
      "\r",
      " 58%|█████▊    | 28/48 [01:05<00:50,  2.53s/it]"
     ]
    },
    {
     "name": "stdout",
     "output_type": "stream",
     "text": [
      "read in chunk /mnt/ml-team/minerva/talking_data/files/train_day8_hour3.csv of shape (3172056, 8)\n"
     ]
    },
    {
     "name": "stderr",
     "output_type": "stream",
     "text": [
      "\r",
      " 60%|██████    | 29/48 [01:08<00:50,  2.68s/it]"
     ]
    },
    {
     "name": "stdout",
     "output_type": "stream",
     "text": [
      "read in chunk /mnt/ml-team/minerva/talking_data/files/train_day8_hour4.csv of shape (3545132, 8)\n"
     ]
    },
    {
     "name": "stderr",
     "output_type": "stream",
     "text": [
      "\r",
      " 62%|██████▎   | 30/48 [01:11<00:48,  2.71s/it]"
     ]
    },
    {
     "name": "stdout",
     "output_type": "stream",
     "text": [
      "read in chunk /mnt/ml-team/minerva/talking_data/files/train_day8_hour5.csv of shape (3160269, 8)\n"
     ]
    },
    {
     "name": "stderr",
     "output_type": "stream",
     "text": [
      "\r",
      " 65%|██████▍   | 31/48 [01:13<00:45,  2.66s/it]"
     ]
    },
    {
     "name": "stdout",
     "output_type": "stream",
     "text": [
      "read in chunk /mnt/ml-team/minerva/talking_data/files/train_day8_hour6.csv of shape (2983655, 8)\n"
     ]
    },
    {
     "name": "stderr",
     "output_type": "stream",
     "text": [
      "\r",
      " 67%|██████▋   | 32/48 [01:16<00:42,  2.67s/it]"
     ]
    },
    {
     "name": "stdout",
     "output_type": "stream",
     "text": [
      "read in chunk /mnt/ml-team/minerva/talking_data/files/train_day8_hour7.csv of shape (3155262, 8)\n"
     ]
    },
    {
     "name": "stderr",
     "output_type": "stream",
     "text": [
      "\r",
      " 69%|██████▉   | 33/48 [01:19<00:39,  2.64s/it]"
     ]
    },
    {
     "name": "stdout",
     "output_type": "stream",
     "text": [
      "read in chunk /mnt/ml-team/minerva/talking_data/files/train_day8_hour8.csv of shape (2976057, 8)\n"
     ]
    },
    {
     "name": "stderr",
     "output_type": "stream",
     "text": [
      "\r",
      " 71%|███████   | 34/48 [01:21<00:36,  2.63s/it]"
     ]
    },
    {
     "name": "stdout",
     "output_type": "stream",
     "text": [
      "read in chunk /mnt/ml-team/minerva/talking_data/files/train_day8_hour9.csv of shape (3068314, 8)\n"
     ]
    },
    {
     "name": "stderr",
     "output_type": "stream",
     "text": [
      "\r",
      " 73%|███████▎  | 35/48 [01:24<00:35,  2.71s/it]"
     ]
    },
    {
     "name": "stdout",
     "output_type": "stream",
     "text": [
      "read in chunk /mnt/ml-team/minerva/talking_data/files/train_day8_hour10.csv of shape (3377086, 8)\n"
     ]
    },
    {
     "name": "stderr",
     "output_type": "stream",
     "text": [
      "\r",
      " 75%|███████▌  | 36/48 [01:27<00:33,  2.77s/it]"
     ]
    },
    {
     "name": "stdout",
     "output_type": "stream",
     "text": [
      "read in chunk /mnt/ml-team/minerva/talking_data/files/train_day8_hour11.csv of shape (3430977, 8)\n"
     ]
    },
    {
     "name": "stderr",
     "output_type": "stream",
     "text": [
      "\r",
      " 77%|███████▋  | 37/48 [01:30<00:31,  2.83s/it]"
     ]
    },
    {
     "name": "stdout",
     "output_type": "stream",
     "text": [
      "read in chunk /mnt/ml-team/minerva/talking_data/files/train_day8_hour12.csv of shape (3485357, 8)\n"
     ]
    },
    {
     "name": "stderr",
     "output_type": "stream",
     "text": [
      "\r",
      " 79%|███████▉  | 38/48 [01:33<00:29,  2.90s/it]"
     ]
    },
    {
     "name": "stdout",
     "output_type": "stream",
     "text": [
      "read in chunk /mnt/ml-team/minerva/talking_data/files/train_day8_hour13.csv of shape (3616634, 8)\n"
     ]
    },
    {
     "name": "stderr",
     "output_type": "stream",
     "text": [
      "\r",
      " 81%|████████▏ | 39/48 [01:36<00:26,  2.99s/it]"
     ]
    },
    {
     "name": "stdout",
     "output_type": "stream",
     "text": [
      "read in chunk /mnt/ml-team/minerva/talking_data/files/train_day8_hour14.csv of shape (3676695, 8)\n"
     ]
    },
    {
     "name": "stderr",
     "output_type": "stream",
     "text": [
      "\r",
      " 83%|████████▎ | 40/48 [01:39<00:23,  2.94s/it]"
     ]
    },
    {
     "name": "stdout",
     "output_type": "stream",
     "text": [
      "read in chunk /mnt/ml-team/minerva/talking_data/files/train_day8_hour15.csv of shape (3336168, 8)\n"
     ]
    },
    {
     "name": "stderr",
     "output_type": "stream",
     "text": [
      "\r",
      " 85%|████████▌ | 41/48 [01:41<00:18,  2.69s/it]"
     ]
    },
    {
     "name": "stdout",
     "output_type": "stream",
     "text": [
      "read in chunk /mnt/ml-team/minerva/talking_data/files/train_day8_hour16.csv of shape (2455567, 8)\n"
     ]
    },
    {
     "name": "stderr",
     "output_type": "stream",
     "text": [
      "\r",
      " 88%|████████▊ | 42/48 [01:42<00:13,  2.25s/it]"
     ]
    },
    {
     "name": "stdout",
     "output_type": "stream",
     "text": [
      "read in chunk /mnt/ml-team/minerva/talking_data/files/train_day8_hour17.csv of shape (1387383, 8)\n"
     ]
    },
    {
     "name": "stderr",
     "output_type": "stream",
     "text": [
      "\r",
      " 90%|████████▉ | 43/48 [01:43<00:08,  1.78s/it]"
     ]
    },
    {
     "name": "stdout",
     "output_type": "stream",
     "text": [
      "read in chunk /mnt/ml-team/minerva/talking_data/files/train_day8_hour18.csv of shape (794088, 8)\n"
     ]
    },
    {
     "name": "stderr",
     "output_type": "stream",
     "text": [
      "\r",
      " 92%|█████████▏| 44/48 [01:43<00:05,  1.38s/it]"
     ]
    },
    {
     "name": "stdout",
     "output_type": "stream",
     "text": [
      "read in chunk /mnt/ml-team/minerva/talking_data/files/train_day8_hour19.csv of shape (554053, 8)\n"
     ]
    },
    {
     "name": "stderr",
     "output_type": "stream",
     "text": [
      "\r",
      " 94%|█████████▍| 45/48 [01:44<00:03,  1.08s/it]"
     ]
    },
    {
     "name": "stdout",
     "output_type": "stream",
     "text": [
      "read in chunk /mnt/ml-team/minerva/talking_data/files/train_day8_hour20.csv of shape (447324, 8)\n"
     ]
    },
    {
     "name": "stderr",
     "output_type": "stream",
     "text": [
      "\r",
      " 96%|█████████▌| 46/48 [01:44<00:01,  1.12it/s]"
     ]
    },
    {
     "name": "stdout",
     "output_type": "stream",
     "text": [
      "read in chunk /mnt/ml-team/minerva/talking_data/files/train_day8_hour21.csv of shape (550518, 8)\n"
     ]
    },
    {
     "name": "stderr",
     "output_type": "stream",
     "text": [
      "\r",
      " 98%|█████████▊| 47/48 [01:45<00:00,  1.05it/s]"
     ]
    },
    {
     "name": "stdout",
     "output_type": "stream",
     "text": [
      "read in chunk /mnt/ml-team/minerva/talking_data/files/train_day8_hour22.csv of shape (1260525, 8)\n"
     ]
    },
    {
     "name": "stderr",
     "output_type": "stream",
     "text": [
      "\r",
      "100%|██████████| 48/48 [01:47<00:00,  1.28s/it]"
     ]
    },
    {
     "name": "stdout",
     "output_type": "stream",
     "text": [
      "read in chunk /mnt/ml-team/minerva/talking_data/files/train_day8_hour23.csv of shape (2366694, 8)\n"
     ]
    },
    {
     "name": "stderr",
     "output_type": "stream",
     "text": [
      "\n"
     ]
    },
    {
     "name": "stdout",
     "output_type": "stream",
     "text": [
      "combined dataset shape: (122578385, 8)\n"
     ]
    }
   ],
   "source": [
    "df_train = read_csv_time_chunks(files_dir, days=days, hours=hours)"
   ]
  },
  {
   "cell_type": "code",
   "execution_count": 8,
   "metadata": {},
   "outputs": [],
   "source": [
    "class ConfidenceRate(BaseTransformer):\n",
    "\n",
    "    def __init__(self, confidence_level=100, categories=[['ip'], ['app'], ['device'], ['os'], ['channel']]):\n",
    "        \n",
    "        self.confidence_level = confidence_level\n",
    "        self.categories = categories\n",
    "\n",
    "    def transform(self, X, y):\n",
    "        \n",
    "        concatenated_dataframe = pd.concat([X, y])\n",
    "        new_features = []\n",
    "\n",
    "        for category in self.categories:\n",
    "\n",
    "            new_feature = '_'.join(category) + '_confidence_rate'\n",
    "            new_features.append(new_feature)\n",
    "\n",
    "            group_object = concatenated_dataframe.groupby(category)\n",
    "\n",
    "            concatenated_dataframe = concatenated_dataframe.merge(\n",
    "                group_object['is_attributed'].apply(self.rate_calculation).reset_index().rename(\n",
    "                    index=str,\n",
    "                    columns={'is_attributed': new_feature}\n",
    "                )[category + [new_feature]],\n",
    "                on=category, how='left'\n",
    "            )\n",
    "        \n",
    "        return {'numerical_features': concatenated_dataframe[new_features]}\n",
    "    \n",
    "    def rate_calculation(self, x):\n",
    "        \n",
    "        rate = x.sum() / float(x.count())\n",
    "        confidence = np.min([1, np.log(x.count())/np.log(self.confidence_level)])\n",
    "\n",
    "        return rate * confidence * 100\n"
   ]
  },
  {
   "cell_type": "code",
   "execution_count": 9,
   "metadata": {},
   "outputs": [],
   "source": [
    "conf_rate = ConfidenceRate()"
   ]
  },
  {
   "cell_type": "code",
   "execution_count": null,
   "metadata": {},
   "outputs": [],
   "source": [
    "blop = conf_rate.transform(df_train, df_train)"
   ]
  },
  {
   "cell_type": "code",
   "execution_count": null,
   "metadata": {},
   "outputs": [],
   "source": [
    "df_train.columns"
   ]
  },
  {
   "cell_type": "code",
   "execution_count": null,
   "metadata": {},
   "outputs": [],
   "source": [
    "blop['numerical_features'].columns"
   ]
  },
  {
   "cell_type": "code",
   "execution_count": null,
   "metadata": {},
   "outputs": [],
   "source": []
  }
 ],
 "metadata": {
  "kernelspec": {
   "display_name": "Python 3",
   "language": "python",
   "name": "python3"
  },
  "language_info": {
   "codemirror_mode": {
    "name": "ipython",
    "version": 3
   },
   "file_extension": ".py",
   "mimetype": "text/x-python",
   "name": "python",
   "nbconvert_exporter": "python",
   "pygments_lexer": "ipython3",
   "version": "3.5.2"
  }
 },
 "nbformat": 4,
 "nbformat_minor": 2
}
