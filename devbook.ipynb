{
 "cells": [
  {
   "cell_type": "code",
   "execution_count": null,
   "metadata": {},
   "outputs": [],
   "source": [
    "import os\n",
    "\n",
    "from sklearn.externals import joblib\n",
    "import pandas as pd"
   ]
  },
  {
   "cell_type": "code",
   "execution_count": null,
   "metadata": {},
   "outputs": [],
   "source": [
    "EXPERIMENT_DIR = '/mnt/ml-team/minerva/talking_data/kuba/experiments/'\n",
    "EXPERIMENT_NAME = 'baseline'\n",
    "\n",
    "filepath = os.path.join(EXPERIMENT_DIR, EXPERIMENT_NAME, 'worst_predictions.pkl')\n",
    "worst_preds = joblib.load(filepath)"
   ]
  },
  {
   "cell_type": "code",
   "execution_count": null,
   "metadata": {},
   "outputs": [],
   "source": [
    "worst_observations = worst_preds['data']\n",
    "worst_y_true, worst_y_pred, worst_scores = worst_preds['y_true'], worst_preds['y_pred'], worst_preds['scores']\n",
    "\n",
    "worst_observations['y_true'] = worst_y_true\n",
    "worst_observations['y_pred'] = worst_y_pred\n",
    "worst_observations['score'] = worst_scores\n",
    "\n",
    "worst_observations.head()"
   ]
  },
  {
   "cell_type": "code",
   "execution_count": null,
   "metadata": {},
   "outputs": [],
   "source": [
    "worst_observations['y_pred'].describe()"
   ]
  },
  {
   "cell_type": "code",
   "execution_count": null,
   "metadata": {},
   "outputs": [],
   "source": []
  }
 ],
 "metadata": {
  "kernelspec": {
   "display_name": "dl_py3",
   "language": "python",
   "name": "dl_py3"
  },
  "language_info": {
   "codemirror_mode": {
    "name": "ipython",
    "version": 3
   },
   "file_extension": ".py",
   "mimetype": "text/x-python",
   "name": "python",
   "nbconvert_exporter": "python",
   "pygments_lexer": "ipython3",
   "version": "3.5.2"
  }
 },
 "nbformat": 4,
 "nbformat_minor": 2
}
